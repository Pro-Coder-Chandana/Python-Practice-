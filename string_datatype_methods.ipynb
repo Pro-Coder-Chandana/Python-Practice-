{
 "cells": [
  {
   "cell_type": "markdown",
   "id": "e3551e90",
   "metadata": {},
   "source": [
    "# Datatype :-\n",
    "A Datatype represent the type of the data stored in the variable. The stored in the variable is called literal.\n",
    "\n",
    "type() :\n",
    "This method is used to find the type of the data that we stored in the variable"
   ]
  },
  {
   "cell_type": "markdown",
   "id": "7bc0b969",
   "metadata": {},
   "source": [
    "# Pre-defind datatypes\n",
    "1) Numeric Datatype\n",
    "\n",
    "2) Sequential Datatype\n",
    "\n",
    "3) set Datatype"
   ]
  },
  {
   "cell_type": "markdown",
   "id": "78b211e6",
   "metadata": {},
   "source": [
    "# 1) Numeric datatypes\n",
    "1) int ( 1,2,3,4,...65234286524...etc)\n",
    "\n",
    "2) float ( 12.34, 6537.88762556336\n",
    "\n",
    "3) complex ( a+bj, ex: 10+5j )\n",
    "\n",
    "int (Integers) :\n",
    "This value is represented by int class. It contains positive or negative whole numbers (without fraction or decimal). In Python there is no limit to how long an integer value can be."
   ]
  },
  {
   "cell_type": "code",
   "execution_count": null,
   "id": "50a0a6df",
   "metadata": {},
   "outputs": [],
   "source": [
    "x=1087257239772653738736572\n",
    "y=20\n",
    "sum=x+y\n",
    "print(sum)"
   ]
  },
  {
   "cell_type": "code",
   "execution_count": null,
   "id": "b8b06fdb",
   "metadata": {},
   "outputs": [],
   "source": [
    "a=3\n",
    "b=8\n",
    "\n",
    "print(a+b)\n",
    "print(\"a+b\")"
   ]
  },
  {
   "cell_type": "markdown",
   "id": "c0e158bb",
   "metadata": {},
   "source": [
    "# float :\n",
    "This value is represented by float class. It is a real number with floating point representation. It is specified by a decimal point. Optionally, the character e or E followed by a positive or negative integer may be appended to specify scientific notation."
   ]
  },
  {
   "cell_type": "code",
   "execution_count": null,
   "id": "4eb34538",
   "metadata": {},
   "outputs": [],
   "source": [
    "f1=10.123\n",
    "f2=10.0\n",
    "sum=f1+f2\n",
    "print(sum)"
   ]
  },
  {
   "cell_type": "code",
   "execution_count": null,
   "id": "8e0a818f",
   "metadata": {},
   "outputs": [],
   "source": [
    "a=12\n",
    "f=76.982\n",
    "print(a+f)"
   ]
  },
  {
   "cell_type": "markdown",
   "id": "e80d00c5",
   "metadata": {},
   "source": [
    "# complex (Complex Numbers) :\n",
    "Complex number is represented by complex class. It is specified as (real part) + (imaginary part)j. For example – 2+3j\n",
    "1. complex_num=a+bj\n",
    "2. a=real part\n",
    "3. b=imaginary part"
   ]
  },
  {
   "cell_type": "code",
   "execution_count": null,
   "id": "34f1cde3",
   "metadata": {},
   "outputs": [],
   "source": [
    "a= 30  # int\n",
    "f=17.0  # float\n",
    "c1=2.5+2.5J  # complex\n",
    "c2=3.0-1.5J  # complex\n",
    "c3=3-10j  # complex \n",
    "c=c1+c2\n",
    "print(c)\n",
    "print(a+c1)\n",
    "print(f+c3)  # 17.00+7j\n",
    "\n",
    "#Real part=2.5+3.0=5.5\n",
    "#imaginary=2.5-1.5=1"
   ]
  },
  {
   "cell_type": "code",
   "execution_count": null,
   "id": "585a2484",
   "metadata": {},
   "outputs": [],
   "source": [
    "a=46+6j\n",
    "b=9+5j\n",
    "print(a/b)"
   ]
  },
  {
   "cell_type": "code",
   "execution_count": 1,
   "id": "43d66eee",
   "metadata": {},
   "outputs": [
    {
     "name": "stdout",
     "output_type": "stream",
     "text": [
      "<class 'float'>\n",
      "10.95\n",
      "<class 'int'>\n",
      "10\n",
      "<class 'complex'>\n",
      "(10+0j)\n"
     ]
    }
   ],
   "source": [
    "a=10.95\n",
    "print(type(a))\n",
    "print(a)\n",
    "\n",
    "a=int(a)\n",
    "print(type(a))\n",
    "print(a)\n",
    "\n",
    "\n",
    "a=complex(a)\n",
    "print(type(a))\n",
    "print(a)"
   ]
  },
  {
   "cell_type": "code",
   "execution_count": 1,
   "id": "de040bef",
   "metadata": {},
   "outputs": [
    {
     "name": "stdout",
     "output_type": "stream",
     "text": [
      "<class 'complex'>\n",
      "(9+10j)\n"
     ]
    },
    {
     "ename": "TypeError",
     "evalue": "can't convert complex to int",
     "output_type": "error",
     "traceback": [
      "\u001b[1;31m---------------------------------------------------------------------------\u001b[0m",
      "\u001b[1;31mTypeError\u001b[0m                                 Traceback (most recent call last)",
      "\u001b[1;32m~\\AppData\\Local\\Temp\\ipykernel_1928\\2392329037.py\u001b[0m in \u001b[0;36m<module>\u001b[1;34m\u001b[0m\n\u001b[0;32m      3\u001b[0m \u001b[0mprint\u001b[0m\u001b[1;33m(\u001b[0m\u001b[0ma\u001b[0m\u001b[1;33m)\u001b[0m\u001b[1;33m\u001b[0m\u001b[1;33m\u001b[0m\u001b[0m\n\u001b[0;32m      4\u001b[0m \u001b[1;33m\u001b[0m\u001b[0m\n\u001b[1;32m----> 5\u001b[1;33m \u001b[0ma\u001b[0m\u001b[1;33m=\u001b[0m\u001b[0mint\u001b[0m\u001b[1;33m(\u001b[0m\u001b[0ma\u001b[0m\u001b[1;33m)\u001b[0m   \u001b[1;31m# it raise an ERROR. Because we c\u001b[0m\u001b[1;33m\u001b[0m\u001b[1;33m\u001b[0m\u001b[0m\n\u001b[0m\u001b[0;32m      6\u001b[0m \u001b[0mprint\u001b[0m\u001b[1;33m(\u001b[0m\u001b[0mtype\u001b[0m\u001b[1;33m(\u001b[0m\u001b[0ma\u001b[0m\u001b[1;33m)\u001b[0m\u001b[1;33m)\u001b[0m\u001b[1;33m\u001b[0m\u001b[1;33m\u001b[0m\u001b[0m\n\u001b[0;32m      7\u001b[0m \u001b[0mprint\u001b[0m\u001b[1;33m(\u001b[0m\u001b[0ma\u001b[0m\u001b[1;33m)\u001b[0m\u001b[1;33m\u001b[0m\u001b[1;33m\u001b[0m\u001b[0m\n",
      "\u001b[1;31mTypeError\u001b[0m: can't convert complex to int"
     ]
    }
   ],
   "source": [
    "a=9+10j\n",
    "print(type(a))\n",
    "print(a)\n",
    "\n",
    "a=int(a)   # it raise an ERROR. Because we c                                                                               \n",
    "print(type(a))\n",
    "print(a)"
   ]
  },
  {
   "cell_type": "markdown",
   "id": "6d8006d9",
   "metadata": {},
   "source": [
    "# 2) Sequential Datatypes\n",
    "1) String(str) datatype\n",
    "\n",
    "2) list datatype # Data structures\n",
    "\n",
    "3) tuple datatype # Data structures\n",
    "\n",
    "4) dictionaray datatype # Data structures\n",
    "\n",
    "1. str (String) :\n",
    "String is a group of characters enclosed in between single/double/triple quotes. ex: \"Python\" OR 'Python' OR \"\"\"Python\"\"\" OR '''Python'''"
   ]
  },
  {
   "cell_type": "code",
   "execution_count": null,
   "id": "c8cf0211",
   "metadata": {},
   "outputs": [],
   "source": [
    "My_String=\"Python\"\n",
    "print(My_String)\n",
    "print(type(My_String))"
   ]
  },
  {
   "cell_type": "code",
   "execution_count": null,
   "id": "100ee1eb",
   "metadata": {},
   "outputs": [],
   "source": [
    "name='python'\n",
    "print(name)    # There we are printing the value of the variable \"name\"\n",
    "print(\"name\")  # There we are printing the string \"name\"\n",
    "print(\"aarthi\")"
   ]
  },
  {
   "cell_type": "code",
   "execution_count": null,
   "id": "437dfcf7",
   "metadata": {},
   "outputs": [],
   "source": [
    "a=\"hello \"\n",
    "b=\"world \"\n",
    "\n",
    "print(a)\n",
    "print(b)"
   ]
  },
  {
   "cell_type": "code",
   "execution_count": null,
   "id": "d2600c97",
   "metadata": {},
   "outputs": [],
   "source": [
    "print(\"Hello \"+ \"World\")    # concating the strings\n",
    "print(\"apple \" + \" car\" + \" pen\")\n",
    "print(\"Python\"*6)\n",
    "print(12*2)\n",
    "print(\"division\"*12)\n",
    "print(12+1+2)"
   ]
  },
  {
   "cell_type": "markdown",
   "id": "fdfde102",
   "metadata": {},
   "source": [
    "# Accessing the elements or a part of the string from the string :\n",
    "We can access the elements of the string by using the index. and we can use| the slicing operation to access the sub string."
   ]
  },
  {
   "cell_type": "markdown",
   "id": "ca677224",
   "metadata": {},
   "source": [
    "- start: The index to start from (inclusive).\n",
    "- stop: The index to stop at (exclusive).\n",
    "- step: The interval between elements (optional, defaults to 1)."
   ]
  },
  {
   "cell_type": "code",
   "execution_count": 60,
   "id": "84037a31",
   "metadata": {},
   "outputs": [
    {
     "data": {
      "text/plain": [
       "'ZYXWVUTSRQPONMLKJIHGFEDCBA'"
      ]
     },
     "execution_count": 60,
     "metadata": {},
     "output_type": "execute_result"
    }
   ],
   "source": [
    "x=\"ABCDEFGHIJKLMNOPQRSTUVWXYZ\"\n",
    "#x[0:26]   # 0 to n-1\n",
    "#x[:]\n",
    "#x[1:]\n",
    "#x[:25]\n",
    "x[0:26:3] # 2 means Take every second character \n",
    "           # It starts at index 0, moves to 2, then 4, and so on, skipping every other character.\n",
    "# reverse the entire alphabet\n",
    "x[::-1]\n"
   ]
  },
  {
   "cell_type": "code",
   "execution_count": 13,
   "id": "841173ae",
   "metadata": {},
   "outputs": [
    {
     "name": "stdout",
     "output_type": "stream",
     "text": [
      "BCDEFGHIJKLMNOPQR\n",
      "ACEG\n",
      "BEHKNQTWZ\n"
     ]
    }
   ],
   "source": [
    "s=\"ABCDEFGHIJKLMNOPQRSTUVWXYZ\"   # s:e:st# [start:stop:step]\n",
    "#print(s[0:12])   # 0 to n-1  # \"ABCDEFGHIJ K  L  M  N  O  P  Q  R  S  T  U  V  W  X  Y  Z\"\n",
    "print(s[1:18])                  #012345678910 11 12 13 14 15 16 17 18 19 20 21 22 23 24 25 26\n",
    "print(s[0:7:2])\n",
    "print(s[1:27:3])\n",
    "# # behknqtwz\n",
    "# print(s[0:25])\n",
    "# print(s[0:26])\n",
    "# print(s[0:26:3])\n",
    "# print(s[1:24:4])  # bfjnrvz"
   ]
  },
  {
   "cell_type": "code",
   "execution_count": 20,
   "id": "08bb6107",
   "metadata": {},
   "outputs": [
    {
     "name": "stdout",
     "output_type": "stream",
     "text": [
      "or\n",
      "rrm\n",
      "gam\n",
      "pormi\n"
     ]
    }
   ],
   "source": [
    "x=\"programming\"\n",
    "print(x[2:5:2])\n",
    "print(x[1:8:3])\n",
    "print(x[3:9:2])\n",
    "print(x[0:9:2])"
   ]
  },
  {
   "cell_type": "code",
   "execution_count": null,
   "id": "49d6bd6a",
   "metadata": {},
   "outputs": [],
   "source": [
    "a=\"python\"\n",
    "# print(len(a))\n",
    "# print(a[2])         \n",
    "# print(a[4])\n",
    "# print(a[-1])\n",
    "# print(a[-6])\n",
    "# print(a[0:1])\n",
    "# print(a[1:3])\n",
    "# print(a[0:3])\n",
    "# print(a[4])\n",
    " \n",
    "# print(a[1:4])\n",
    "\n",
    "# print(a[0:5])\n",
    "#print(a[-1:5])\n",
    "#print(a[-1:-5])\n"
   ]
  },
  {
   "cell_type": "code",
   "execution_count": null,
   "id": "f4719cb1",
   "metadata": {},
   "outputs": [],
   "source": [
    "a=\"welcome\"\n",
    "print(\"1)\",a[-1:-4]) # error\n",
    "print(\"2)\",a[-4:-1])\n",
    "\n",
    "\n",
    "\n",
    "print(\"3)\",a[-5:-3])\n",
    "print(\"4)\",a[:3])\n",
    "print(\"5)\",a[:-3])\n",
    "print(\"6)\",a[::])\n",
    "print(\"7)\",a[:-7])"
   ]
  },
  {
   "cell_type": "code",
   "execution_count": 17,
   "id": "09091b02",
   "metadata": {},
   "outputs": [
    {
     "name": "stdout",
     "output_type": "stream",
     "text": [
      "Pto\n",
      "ty\n",
      "t\n"
     ]
    }
   ],
   "source": [
    "              #  s[start_value : stop_value : ]\n",
    "s=\"Python\"\n",
    "#  print(\"Length of the string is :\",len(s)) # To get the length of a string, use the len() function.\n",
    "# print(s[2]) \n",
    "# print(s[0:4])step_value\n",
    "#print(s[2:6])\n",
    "# print(s[2:1000])\n",
    "# print(s[0:5:1])  # it going to print 0 - 4th index\n",
    "print(s[0:5:2])\n",
    "print(s[2:0:-1])\n",
    "#print(s[2:5:0])  # ERROR slice step cannot be zero\n",
    "\n",
    "#print(s[::-1])\n",
    "# print(s[::])\n",
    "print(s[-4:-5:-1])"
   ]
  },
  {
   "cell_type": "code",
   "execution_count": null,
   "id": "1fe831ce",
   "metadata": {},
   "outputs": [],
   "source": [
    "# Slicing operation on string\n",
    "\n",
    "s=\"ABCDEFGHIJKLMNOPQRSTUVWXYZ\"\n",
    "# print(s)\n",
    "# print(len(s))\n",
    "# print(s[9])\n",
    "# print(s[3:10:2])  # s[start_value : stop_value : step_value]\n",
    "# print(s[::2])\n",
    "# print(s[:100000])\n",
    "# print(s[2:8:0])  # ERROR\n",
    "# print(s[::-1])\n",
    "# print(s[10:2:-2])\n",
    "# print(s[1:12:-2])"
   ]
  },
  {
   "cell_type": "code",
   "execution_count": null,
   "id": "d9372f5b",
   "metadata": {},
   "outputs": [],
   "source": [
    "s=\"ABCDEFGHIJKLMNOPQRSTUVWXYZ\"\n",
    "print(s)\n",
    "# print(s[0::1])\n",
    "# print(s[0:10:])\n",
    "# print(s[2:10:-2])\n",
    "# print(s[2:16:3])\n",
    "# print(s[-3:18:1])\n",
    "# print(s[-25:0:])\n",
    "#print(s[2:16:0])"
   ]
  },
  {
   "cell_type": "code",
   "execution_count": null,
   "id": "947bd933",
   "metadata": {},
   "outputs": [],
   "source": [
    "# s=\"Python programming\"\n",
    "# print(s[-4:-1:-1]) #mg\n",
    "# print(s)\n",
    "# print(len(s))\n",
    "# print(s[1:4])\n",
    "# print(s[1:14:2])\n",
    "# print(s[4:16:5])  \n",
    "# print(s[3:6:1]) \n",
    "# print(s[5:])\n",
    "# print(s[5])\n",
    "# print(s[-3])"
   ]
  },
  {
   "cell_type": "code",
   "execution_count": null,
   "id": "1100ccf1",
   "metadata": {},
   "outputs": [],
   "source": [
    "s=\"ABCDEFGHIJKLMNOPQRSTUVWXYZ.\"\n",
    "print(s)\n",
    "print(s[::])\n",
    "print(s[::2])\n",
    "print(s[::-1])\n",
    "print(s[:10:4])\n",
    "print(s[1:12])\n",
    "print(s[1:12:1])\n",
    "print(s[1:12:3])\n",
    "print(s[::-3])\n",
    "print(s[:-20:-3])\n",
    "\n"
   ]
  },
  {
   "cell_type": "markdown",
   "id": "d73cf34c",
   "metadata": {},
   "source": [
    "# String Methods\n",
    "### 1) capitalize() : Converts the first character to upper case"
   ]
  },
  {
   "cell_type": "code",
   "execution_count": 23,
   "id": "bb2554e3",
   "metadata": {},
   "outputs": [
    {
     "name": "stdout",
     "output_type": "stream",
     "text": [
      "Hi....,i like statistics subject\n"
     ]
    }
   ],
   "source": [
    "s=\"hi....,I like statistics subject\"\n",
    "print(s.capitalize())"
   ]
  },
  {
   "cell_type": "markdown",
   "id": "0177f08e",
   "metadata": {},
   "source": [
    "### 2) casefold() : Converts string into lower case"
   ]
  },
  {
   "cell_type": "code",
   "execution_count": 8,
   "id": "190cffee",
   "metadata": {},
   "outputs": [
    {
     "name": "stdout",
     "output_type": "stream",
     "text": [
      "hi....,i like statistics stuject\n"
     ]
    }
   ],
   "source": [
    "s=\"HI....,I Like StAtistiCs StujEct\"\n",
    "print(s.casefold())"
   ]
  },
  {
   "cell_type": "markdown",
   "id": "32345ff9",
   "metadata": {},
   "source": [
    "### 3) center() : Returns a centered string"
   ]
  },
  {
   "cell_type": "code",
   "execution_count": 2,
   "id": "14d0f405",
   "metadata": {},
   "outputs": [
    {
     "name": "stdout",
     "output_type": "stream",
     "text": [
      "                      python                      \n",
      "12345678901234567890\n"
     ]
    }
   ],
   "source": [
    "s=\"python\"\n",
    "print(s.center(50))   #Print the word \"python\", taking up the space of 20 characters, with \"python\" in the middle.\n",
    "print(\"12345678901234567890\")  # this line is just to understand how the above line work "
   ]
  },
  {
   "cell_type": "markdown",
   "id": "a96cb62e",
   "metadata": {},
   "source": [
    "### 4) count(): Returns the number of times a specified value occurs in a string¶"
   ]
  },
  {
   "cell_type": "code",
   "execution_count": 3,
   "id": "812cead1",
   "metadata": {},
   "outputs": [
    {
     "name": "stdout",
     "output_type": "stream",
     "text": [
      "3\n"
     ]
    }
   ],
   "source": [
    "s=\"statistics\"\n",
    "print(s.count(\"s\"))  # it gives ,total number of \"i\" in \"s\" "
   ]
  },
  {
   "cell_type": "code",
   "execution_count": 11,
   "id": "4145aae3",
   "metadata": {},
   "outputs": [
    {
     "name": "stdout",
     "output_type": "stream",
     "text": [
      "3\n"
     ]
    }
   ],
   "source": [
    "s=\"statistics\"\n",
    "print(s.count(\"t\"))  # it gives ,total number of \"i\" in \"s\" "
   ]
  },
  {
   "cell_type": "markdown",
   "id": "d750d322",
   "metadata": {},
   "source": [
    "### 5) format() : Formats specified values in a string\n",
    "The format() method formats the specified value(s) and insert them inside the string's placeholder.\n",
    "\n",
    "The placeholder is defined using curly brackets: {}. Read more about the placeholders in the Placeholder section below.\n",
    "\n",
    "The format() method returns the formatted string.\n",
    "\n",
    "The Placeholders :-\n",
    "\n",
    "The placeholders can be identified using named indexes {name}, numbered indexes {0}, or even empty placeholders {}."
   ]
  },
  {
   "cell_type": "code",
   "execution_count": 12,
   "id": "81a7b6bf",
   "metadata": {},
   "outputs": [
    {
     "name": "stdout",
     "output_type": "stream",
     "text": [
      "name=python,version=3.7\n"
     ]
    }
   ],
   "source": [
    "print(\"name={},version={}\".format(\"python\",3.7))"
   ]
  },
  {
   "cell_type": "code",
   "execution_count": 6,
   "id": "d9779bbc",
   "metadata": {},
   "outputs": [
    {
     "name": "stdout",
     "output_type": "stream",
     "text": [
      "My name is Rani, I am 1729 years old 12,100.10\n"
     ]
    }
   ],
   "source": [
    "print(\"My name is {}, I am {} years old {},{}.{}\".format(\"Rani\",1729,12,100,10))"
   ]
  },
  {
   "cell_type": "code",
   "execution_count": 103,
   "id": "148a63e3",
   "metadata": {},
   "outputs": [
    {
     "name": "stdout",
     "output_type": "stream",
     "text": [
      "My name is Rani, I am 17 years old.\n"
     ]
    }
   ],
   "source": [
    "print(\"My name is {name}, I am {age} years old.\".format(name=\"Rani\",age=17))"
   ]
  },
  {
   "cell_type": "code",
   "execution_count": null,
   "id": "a294d1e0",
   "metadata": {},
   "outputs": [],
   "source": [
    "print(\"My name is {name}, I am {age} years old.\".format(age=17,name=\"Rin\"))"
   ]
  },
  {
   "cell_type": "code",
   "execution_count": null,
   "id": "bef7a984",
   "metadata": {},
   "outputs": [],
   "source": [
    "print(\"My name is {}, I am {} years old.\".format(\"Rani\",17))"
   ]
  },
  {
   "cell_type": "code",
   "execution_count": 7,
   "id": "708b3a76",
   "metadata": {},
   "outputs": [
    {
     "name": "stdout",
     "output_type": "stream",
     "text": [
      "My name is 17, I am Rani years old.\n"
     ]
    }
   ],
   "source": [
    "print(\"My name is {1}, I am {0} years old.\".format(\"Rani\",17))"
   ]
  },
  {
   "cell_type": "code",
   "execution_count": null,
   "id": "e073b49b",
   "metadata": {},
   "outputs": [],
   "source": [
    "print(\"My name is {1}, I am {0} years old.\".format(\"Rin\",17))"
   ]
  },
  {
   "cell_type": "code",
   "execution_count": null,
   "id": "f1118097",
   "metadata": {},
   "outputs": [],
   "source": [
    "print(\"Hi... , {0},HOw are you {0}?.\".format(\"Rin\"))"
   ]
  },
  {
   "cell_type": "markdown",
   "id": "372467a9",
   "metadata": {},
   "source": [
    "### 6) format_map() : Python String format_map() method is an inbuilt function in Python, which is used to return a dictionary key’s value.\n",
    "Syntax:\n",
    "\n",
    "string.format_map(z)\n",
    "\n",
    "Parameters:\n",
    "\n",
    "Here z is a variable in which the input dictionary is stored and string is the key of the input dictionary. input_dict: Takes a single parameter which is the input dictionary."
   ]
  },
  {
   "cell_type": "code",
   "execution_count": 24,
   "id": "fba2466b",
   "metadata": {},
   "outputs": [
    {
     "name": "stdout",
     "output_type": "stream",
     "text": [
      "Hi..., I ma Rin, amd I am 17 years old.\n"
     ]
    }
   ],
   "source": [
    "d={\"name\":\"Rin\",\"age\":17}\n",
    "print(\"Hi..., I ma {name}, amd I am {age} years old.\".format_map(d))"
   ]
  },
  {
   "cell_type": "code",
   "execution_count": 67,
   "id": "476c3a20",
   "metadata": {},
   "outputs": [
    {
     "name": "stdout",
     "output_type": "stream",
     "text": [
      "My name is John and I am 25 years old.\n"
     ]
    }
   ],
   "source": [
    "data = {\"name\": \"John\", \"age\": 25}\n",
    "s = \"My name is {name} and I am {age} years old.\"\n",
    "formatted_string = s.format_map(data)\n",
    "print(formatted_string)\n"
   ]
  },
  {
   "cell_type": "code",
   "execution_count": null,
   "id": "4a53785e",
   "metadata": {},
   "outputs": [],
   "source": [
    "data = {\"name\": \"Alice\"}\n",
    "s = \"My name is {name} and I live in {city}.\"\n",
    "formatted_string = s.format_map(data)\n",
    "print(formatted_string)\n",
    "#This will raise a KeyError because the key {city}\n",
    "#is not present in the data dictionary."
   ]
  },
  {
   "cell_type": "code",
   "execution_count": null,
   "id": "7ae99643",
   "metadata": {},
   "outputs": [],
   "source": [
    "d={\"name\":\"Rin\",\"age\":1729}\n",
    "print(\"Hi..., I ma {0}, amd I am {1} years old.\".format_map(d))  # Error"
   ]
  },
  {
   "cell_type": "code",
   "execution_count": null,
   "id": "93571b65",
   "metadata": {},
   "outputs": [],
   "source": [
    "d={\"names\":[\"Rin\",\"Reshmi\"],\"ages\":[21,22]}\n",
    "print(\"Hi..., I ma {names[0]}, amd I am {ages[0]} years old.\".format_map(d))\n",
    "print(\"Hi..., I ma {names[1]}, amd I am {ages[1]} years old.\".format_map(d))"
   ]
  },
  {
   "cell_type": "markdown",
   "id": "390e0b00",
   "metadata": {},
   "source": [
    "### 7) join() : Converts the elements of an iterable into a string\n",
    "The join() method takes all items in an iterable and joins them into one string.\n",
    "\n",
    "A string must be specified as the separator.\n",
    "\n",
    "Syntax :-\n",
    "\n",
    "string.join(iterable)"
   ]
  },
  {
   "cell_type": "code",
   "execution_count": 68,
   "id": "9fa00c52",
   "metadata": {},
   "outputs": [
    {
     "name": "stdout",
     "output_type": "stream",
     "text": [
      "0\n",
      "1\n",
      "2\n",
      "3\n",
      "4\n"
     ]
    }
   ],
   "source": [
    "for i in range(5): # 0 to n-1\n",
    "    print(i)"
   ]
  },
  {
   "cell_type": "code",
   "execution_count": 8,
   "id": "191514a9",
   "metadata": {},
   "outputs": [
    {
     "name": "stdout",
     "output_type": "stream",
     "text": [
      "M-A-T-H-E-M-A-T-I-C-S\n",
      "M(statistics)A(statistics)T(statistics)H(statistics)E(statistics)M(statistics)A(statistics)T(statistics)I(statistics)C(statistics)S\n"
     ]
    }
   ],
   "source": [
    "s=\"(statistics)\"\n",
    "m=\"MATHEMATICS\"\n",
    "print(\"-\".join(m))\n",
    "print(s.join(m))   # (statistics)\n"
   ]
  },
  {
   "cell_type": "code",
   "execution_count": 113,
   "id": "d937fa50",
   "metadata": {},
   "outputs": [
    {
     "name": "stdout",
     "output_type": "stream",
     "text": [
      "apple-banana-cherry\n",
      "Python-is-fun\n",
      "P y t h o n\n"
     ]
    }
   ],
   "source": [
    "# Joining elements with a comma \n",
    "items = [\"apple\", \"banana\", \"cherry\"]\n",
    "result = \"-\".join(items)\n",
    "print(result)\n",
    "\n",
    "# Joining elements of a tuple\n",
    "words = (\"Python\", \"is\", \"fun\") # ()\n",
    "result = \"-\".join(words)\n",
    "print(result)\n",
    "\n",
    "#Joining with no separator\n",
    "letters = [\"P\", \"y\", \"t\", \"h\", \"o\", \"n\"]\n",
    "result = \" \".join(letters)\n",
    "print(result)\n",
    "\n",
    "\n"
   ]
  },
  {
   "cell_type": "code",
   "execution_count": 29,
   "id": "0237eec1",
   "metadata": {},
   "outputs": [
    {
     "name": "stdout",
     "output_type": "stream",
     "text": [
      "AaaaaaaaB\n",
      "Aaaa bbbB\n",
      "P$y$t$h$o$n\n",
      "P.y.t.h.o.n\n"
     ]
    }
   ],
   "source": [
    "d={\"A\":1,\"B\":2}\n",
    "d1={1:\"A\",2:\"B\"}\n",
    "s=\"aaaaaaa\"\n",
    "print(s.join(d))\n",
    "#print(s.join(d1))  # Error\n",
    "\n",
    "d={\"A\":1,\"B\":2}\n",
    "s=\"aaa bbb\"\n",
    "print(s.join(d))\n",
    "\n",
    "\n",
    "print(\"$\".join(\"Python\"))\n",
    "print(\".\".join(\"Python\"))"
   ]
  },
  {
   "cell_type": "code",
   "execution_count": 34,
   "id": "8df8f1f2",
   "metadata": {},
   "outputs": [
    {
     "name": "stdout",
     "output_type": "stream",
     "text": [
      "python\n"
     ]
    }
   ],
   "source": [
    "l=[\"p\",\"y\",\"t\",\"h\",\"o\",\"n\"]\n",
    "print(\"\".join(l))"
   ]
  },
  {
   "cell_type": "markdown",
   "id": "73335265",
   "metadata": {},
   "source": [
    "### 8) lower() : Converts a string into lower case\n",
    "The lower() method returns a string where all characters are lower case.\n",
    "\n",
    "Symbols and Numbers are ignored.\n",
    "\n",
    "Syntax :-\n",
    "\n",
    "string.lower()"
   ]
  },
  {
   "cell_type": "code",
   "execution_count": 20,
   "id": "3f6541a2",
   "metadata": {},
   "outputs": [
    {
     "name": "stdout",
     "output_type": "stream",
     "text": [
      "python\n",
      "python\n",
      "mathematics 1729\n",
      "mathematics 1729\n"
     ]
    }
   ],
   "source": [
    "s=\"Python\"\n",
    "print(s.lower())\n",
    "\n",
    "s=\"PYTHON\"\n",
    "print(s.lower())\n",
    "\n",
    "s=\"Mathematics 1729\"\n",
    "print(s.lower())\n",
    "\n",
    "s=\"MATHEMATICS 1729\"\n",
    "print(s.lower())"
   ]
  },
  {
   "cell_type": "markdown",
   "id": "ef9fbfc3",
   "metadata": {},
   "source": [
    "### 9) Split()\n",
    "Split a string into a list where each word is a list item:\n",
    "\n",
    "The split() method splits a string into a list.\n",
    "\n",
    "You can specify the separator, default separator is any whitespace."
   ]
  },
  {
   "cell_type": "code",
   "execution_count": 21,
   "id": "429c8221",
   "metadata": {},
   "outputs": [
    {
     "name": "stdout",
     "output_type": "stream",
     "text": [
      "['python', 'progam']\n"
     ]
    }
   ],
   "source": [
    "s=\"python progam\"\n",
    "print(s.split())"
   ]
  },
  {
   "cell_type": "code",
   "execution_count": 114,
   "id": "2cd14825",
   "metadata": {},
   "outputs": [
    {
     "name": "stdout",
     "output_type": "stream",
     "text": [
      "['p', 'y', 't', 'h', 'o', 'n']\n"
     ]
    }
   ],
   "source": [
    "s=\"p,y,t,h,o,n\"\n",
    "print(s.split(\",\"))"
   ]
  },
  {
   "cell_type": "code",
   "execution_count": 79,
   "id": "1af386fd",
   "metadata": {},
   "outputs": [
    {
     "name": "stdout",
     "output_type": "stream",
     "text": [
      "['p', 'y', 't', 'h', 'o', 'n']\n"
     ]
    }
   ],
   "source": [
    "s=\"p y t h o n\"\n",
    "print(s.split())"
   ]
  },
  {
   "cell_type": "code",
   "execution_count": 27,
   "id": "cd526556",
   "metadata": {},
   "outputs": [
    {
     "name": "stdout",
     "output_type": "stream",
     "text": [
      "['p', 'thon']\n"
     ]
    }
   ],
   "source": [
    "s=\"python\"\n",
    "print(s.split(\"y\"))"
   ]
  },
  {
   "cell_type": "code",
   "execution_count": 30,
   "id": "2eb71d15",
   "metadata": {},
   "outputs": [
    {
     "name": "stdout",
     "output_type": "stream",
     "text": [
      "['python', 'the', 'characters', 'are', 'in', 'upper', 'case']\n"
     ]
    }
   ],
   "source": [
    "s=\"python the characters are in upper case\"\n",
    "print(s.split())"
   ]
  },
  {
   "cell_type": "code",
   "execution_count": 31,
   "id": "2b894ecf",
   "metadata": {},
   "outputs": [
    {
     "name": "stdout",
     "output_type": "stream",
     "text": [
      "['Python', 'is', 'a', 'easy', 'programming']\n"
     ]
    }
   ],
   "source": [
    "s=\"Python is a easy programming\"\n",
    "print(s.split())"
   ]
  },
  {
   "cell_type": "code",
   "execution_count": 119,
   "id": "9b67fb65",
   "metadata": {},
   "outputs": [
    {
     "name": "stdout",
     "output_type": "stream",
     "text": [
      "['', 'ython is a easy ', 'rogramming']\n"
     ]
    }
   ],
   "source": [
    "s=\"Python is a easy Programming\"\n",
    "print(s.split(\"P\"))"
   ]
  },
  {
   "cell_type": "markdown",
   "id": "200d2b53",
   "metadata": {},
   "source": [
    "### 10) isupper() : Returns True if all characters in the string are upper case\n",
    "The isupper() method returns True if all the characters are in upper case, otherwise False.\n",
    "\n",
    "Numbers, symbols and spaces are not checked, only alphabet characters.\n",
    "\n",
    "Syntax :-\n",
    "\n",
    "string.isupper()"
   ]
  },
  {
   "cell_type": "code",
   "execution_count": 9,
   "id": "b26b054c",
   "metadata": {},
   "outputs": [
    {
     "name": "stdout",
     "output_type": "stream",
     "text": [
      "True\n",
      "False\n",
      "True\n"
     ]
    }
   ],
   "source": [
    "s=\"STATISTICS\"\n",
    "print(s.isupper())\n",
    "\n",
    "s=\"Statistics\"\n",
    "print(s.isupper())\n",
    "\n",
    "s=\"STATISTICS 123\"\n",
    "print(s.isupper())"
   ]
  },
  {
   "cell_type": "markdown",
   "id": "30c409fd",
   "metadata": {},
   "source": [
    "### 11) islower() : Returns True if all characters in the string are lower case\n",
    "The islower() method returns True if all the characters are in lower case, otherwise False.\n",
    "\n",
    "Numbers, symbols and spaces are not checked, only alphabet characters.\n",
    "\n",
    "Syntax :-\n",
    "\n",
    "string.islower()"
   ]
  },
  {
   "cell_type": "code",
   "execution_count": 35,
   "id": "4aaaf324",
   "metadata": {},
   "outputs": [
    {
     "name": "stdout",
     "output_type": "stream",
     "text": [
      "True\n",
      "True\n",
      "False\n",
      "False\n"
     ]
    }
   ],
   "source": [
    "a=\"mathematics\"\n",
    "print(a.islower())\n",
    "b=\"mathematics 123\"\n",
    "print(b.islower())\n",
    "c=\"Mathematics\"\n",
    "print(c.islower())\n",
    "d=\"MATHEMATICS\"\n",
    "print(d.islower())"
   ]
  },
  {
   "cell_type": "markdown",
   "id": "47e606b4",
   "metadata": {},
   "source": [
    "### 12)isdigit(): Returns True if all characters in the string are digits\n",
    "The isdigit() method returns True if all the characters are digits, otherwise False.\n",
    "\n",
    "Exponents, like ², are also considered to be a digit.\n",
    "\n",
    "Syntax :-\n",
    "\n",
    "string.isdigit()"
   ]
  },
  {
   "cell_type": "code",
   "execution_count": 36,
   "id": "b0cf7294",
   "metadata": {},
   "outputs": [
    {
     "name": "stdout",
     "output_type": "stream",
     "text": [
      "True\n"
     ]
    }
   ],
   "source": [
    "s=\"02998378\"\n",
    "print(s.isdigit())"
   ]
  },
  {
   "cell_type": "code",
   "execution_count": 37,
   "id": "fb665fe1",
   "metadata": {},
   "outputs": [
    {
     "name": "stdout",
     "output_type": "stream",
     "text": [
      "False\n"
     ]
    }
   ],
   "source": [
    "s=\"python\"\n",
    "print(s.isdigit())"
   ]
  },
  {
   "cell_type": "code",
   "execution_count": 38,
   "id": "17afb78b",
   "metadata": {},
   "outputs": [
    {
     "name": "stdout",
     "output_type": "stream",
     "text": [
      "False\n"
     ]
    }
   ],
   "source": [
    "s=\"python3\"\n",
    "print(s.isdigit())"
   ]
  },
  {
   "cell_type": "markdown",
   "id": "57e735a6",
   "metadata": {},
   "source": [
    "### 13) isalnum()\tReturns True if all characters in the string are alphanumeric( alphabets and numbers )"
   ]
  },
  {
   "cell_type": "markdown",
   "id": "b010eace",
   "metadata": {},
   "source": [
    "The isalnum() method returns True if all the characters are alphanumeric, meaning alphabet letter (a-z) and numbers (0-9).\n",
    "\n",
    "Example of characters that are not alphanumeric: (space)!#%&? etc.\n",
    "\n",
    "Syntax :-\n",
    "\n",
    "string.isalnum()  #No parameters"
   ]
  },
  {
   "cell_type": "code",
   "execution_count": 65,
   "id": "a94626a1",
   "metadata": {},
   "outputs": [
    {
     "name": "stdout",
     "output_type": "stream",
     "text": [
      "True\n"
     ]
    }
   ],
   "source": [
    "s=\"mathematics1729\"\n",
    "print(s.isalnum())"
   ]
  },
  {
   "cell_type": "code",
   "execution_count": 83,
   "id": "1a69e178",
   "metadata": {},
   "outputs": [
    {
     "name": "stdout",
     "output_type": "stream",
     "text": [
      "True\n"
     ]
    }
   ],
   "source": [
    "s=\"mathematics\"\n",
    "print(s.isalnum())"
   ]
  },
  {
   "cell_type": "code",
   "execution_count": 84,
   "id": "536083cd",
   "metadata": {},
   "outputs": [
    {
     "name": "stdout",
     "output_type": "stream",
     "text": [
      "True\n"
     ]
    }
   ],
   "source": [
    "s=\"1729\"\n",
    "print(s.isalnum())"
   ]
  },
  {
   "cell_type": "code",
   "execution_count": 85,
   "id": "954760ef",
   "metadata": {},
   "outputs": [
    {
     "name": "stdout",
     "output_type": "stream",
     "text": [
      "False\n"
     ]
    }
   ],
   "source": [
    "s=\"@%$mathematics1729\"\n",
    "print(s.isalnum())"
   ]
  },
  {
   "cell_type": "code",
   "execution_count": 86,
   "id": "db74b63f",
   "metadata": {},
   "outputs": [
    {
     "name": "stdout",
     "output_type": "stream",
     "text": [
      "False\n"
     ]
    }
   ],
   "source": [
    "s=\"math.sqrt()\"\n",
    "print(s.isalnum())"
   ]
  },
  {
   "cell_type": "code",
   "execution_count": 92,
   "id": "875c9418",
   "metadata": {},
   "outputs": [
    {
     "name": "stdout",
     "output_type": "stream",
     "text": [
      "True\n"
     ]
    }
   ],
   "source": [
    "s=\"Datascience\"\n",
    "print(s.isalnum())"
   ]
  },
  {
   "cell_type": "markdown",
   "id": "278d7622",
   "metadata": {},
   "source": [
    "### 14)  isalpha() :\tReturns True if all characters in the string are in the alphabet"
   ]
  },
  {
   "cell_type": "markdown",
   "id": "6464a466",
   "metadata": {},
   "source": [
    "The isalpha() method returns True if all the characters are alphabet letters (a-z).\n",
    "\n",
    "Example of characters that are not alphabet letters: (space)!#%&? etc.\n",
    "\n",
    "Syntax :-\n",
    "\n",
    "string.isalpha()  # No parameters"
   ]
  },
  {
   "cell_type": "code",
   "execution_count": 10,
   "id": "6fc57ffd",
   "metadata": {},
   "outputs": [
    {
     "name": "stdout",
     "output_type": "stream",
     "text": [
      "True\n"
     ]
    }
   ],
   "source": [
    "s=\"statistics\"\n",
    "print(s.isalpha())"
   ]
  },
  {
   "cell_type": "code",
   "execution_count": 11,
   "id": "b5ae0884",
   "metadata": {},
   "outputs": [
    {
     "name": "stdout",
     "output_type": "stream",
     "text": [
      "False\n"
     ]
    }
   ],
   "source": [
    "s=\"statistics123\"\n",
    "print(s.isalpha())"
   ]
  },
  {
   "cell_type": "code",
   "execution_count": 95,
   "id": "09878b2a",
   "metadata": {},
   "outputs": [
    {
     "name": "stdout",
     "output_type": "stream",
     "text": [
      "False\n"
     ]
    }
   ],
   "source": [
    "s=\"1729\"\n",
    "print(s.isalpha())"
   ]
  },
  {
   "cell_type": "code",
   "execution_count": 97,
   "id": "21eabb51",
   "metadata": {},
   "outputs": [
    {
     "name": "stdout",
     "output_type": "stream",
     "text": [
      "True\n"
     ]
    }
   ],
   "source": [
    "s=\"statisticsandmathematics\"\n",
    "print(s.isalpha())"
   ]
  },
  {
   "cell_type": "markdown",
   "id": "1d2f5172",
   "metadata": {},
   "source": [
    "### 15) isascii() :\tReturns True if all characters in the string are ascii characters"
   ]
  },
  {
   "cell_type": "code",
   "execution_count": null,
   "id": "95c7f06c",
   "metadata": {},
   "outputs": [],
   "source": [
    "s=\"stats\"\n",
    "print(s.isascii())"
   ]
  },
  {
   "cell_type": "code",
   "execution_count": null,
   "id": "ad4286e7",
   "metadata": {},
   "outputs": [],
   "source": [
    "s=\"stats123\"\n",
    "print(s.isascii())"
   ]
  },
  {
   "cell_type": "code",
   "execution_count": null,
   "id": "d81d7209",
   "metadata": {},
   "outputs": [],
   "source": [
    "s=\"stats#\"\n",
    "print(s.isascii())"
   ]
  },
  {
   "cell_type": "code",
   "execution_count": null,
   "id": "49587dad",
   "metadata": {},
   "outputs": [],
   "source": [
    "s=\"stats       \"\n",
    "print(s.isascii())"
   ]
  },
  {
   "cell_type": "code",
   "execution_count": null,
   "id": "d5e97fee",
   "metadata": {},
   "outputs": [],
   "source": [
    "s=\"s=\"'Hêllo Wörld'\"\n",
    "print(s.isascii())  # gives error"
   ]
  },
  {
   "cell_type": "markdown",
   "id": "51d1234a",
   "metadata": {},
   "source": [
    "### 16) isdecimal() :\tReturns True if all characters in the string are decimals"
   ]
  },
  {
   "cell_type": "markdown",
   "id": "ac2149b4",
   "metadata": {},
   "source": [
    "The isdecimal() method returns True if all the characters are decimals (0-9).\n",
    "\n",
    "This method is used on unicode objects.\n",
    "\n",
    "Syntax :-\n",
    "string.isdecimal()"
   ]
  },
  {
   "cell_type": "code",
   "execution_count": 12,
   "id": "2416765f",
   "metadata": {},
   "outputs": [
    {
     "name": "stdout",
     "output_type": "stream",
     "text": [
      "True\n"
     ]
    }
   ],
   "source": [
    "s = \"12345\"\n",
    "print(s.isdecimal())  # Output: True\n",
    "#All characters in the string are decimal digits."
   ]
  },
  {
   "cell_type": "code",
   "execution_count": 99,
   "id": "a366759d",
   "metadata": {},
   "outputs": [
    {
     "name": "stdout",
     "output_type": "stream",
     "text": [
      "False\n"
     ]
    }
   ],
   "source": [
    "s = \"123.45\"\n",
    "print(s.isdecimal())  # Output: False\n",
    "#The string contains a decimal point, which is not considered a decimal character."
   ]
  },
  {
   "cell_type": "code",
   "execution_count": 100,
   "id": "c921c5af",
   "metadata": {},
   "outputs": [
    {
     "name": "stdout",
     "output_type": "stream",
     "text": [
      "False\n"
     ]
    }
   ],
   "source": [
    "s = \"12345abc\"\n",
    "print(s.isdecimal())  # Output: False\n",
    "#he string contains non-decimal characters (abc)."
   ]
  },
  {
   "cell_type": "markdown",
   "id": "bde25a50",
   "metadata": {},
   "source": [
    "### 17) isspace() : Returns True if all characters in the string are whitespaces"
   ]
  },
  {
   "cell_type": "markdown",
   "id": "ab594af2",
   "metadata": {},
   "source": [
    "The isspace() method returns True if all the characters in a string are whitespaces, otherwise False.\n",
    "\n",
    "Syntax :-\n",
    "\n",
    "string.isspace()"
   ]
  },
  {
   "cell_type": "code",
   "execution_count": 15,
   "id": "bdfe8391",
   "metadata": {},
   "outputs": [
    {
     "name": "stdout",
     "output_type": "stream",
     "text": [
      "False\n",
      "True\n"
     ]
    }
   ],
   "source": [
    "s=\"python\"    # \" \"   '  ' \"\"\"  \"\"\"\n",
    "print(s.isspace())\n",
    "x=\"   \"\n",
    "print(x.isspace())"
   ]
  },
  {
   "cell_type": "code",
   "execution_count": 101,
   "id": "73c7a411",
   "metadata": {},
   "outputs": [
    {
     "name": "stdout",
     "output_type": "stream",
     "text": [
      "False\n",
      "False\n",
      "True\n",
      "False\n",
      "False\n",
      "True\n",
      "False\n"
     ]
    }
   ],
   "source": [
    "s=\"python\"    # \" \"   '  ' \"\"\"  \"\"\"\n",
    "print(s.isspace())\n",
    "\n",
    "s=\"data science\"\n",
    "print(s.isspace())\n",
    "\n",
    "s=\"    \"\n",
    "print(s.isspace())\n",
    "s=\"       s        \"\n",
    "print(s.isspace())\n",
    "\n",
    "s = \"Hello \"\n",
    "print(s.isspace())  # Output: False\n",
    "\n",
    "s = \"  \"\n",
    "print(s.isspace())  # Output: False\n",
    "\n",
    "s = \"   a   \"\n",
    "print(s.isspace())  # Output: False\n"
   ]
  },
  {
   "cell_type": "code",
   "execution_count": null,
   "id": "09f62d7a",
   "metadata": {},
   "outputs": [],
   "source": []
  },
  {
   "cell_type": "code",
   "execution_count": null,
   "id": "50016714",
   "metadata": {},
   "outputs": [],
   "source": []
  },
  {
   "cell_type": "code",
   "execution_count": null,
   "id": "20614829",
   "metadata": {},
   "outputs": [],
   "source": []
  },
  {
   "cell_type": "code",
   "execution_count": null,
   "id": "b96d64f3",
   "metadata": {},
   "outputs": [],
   "source": [
    "fruits = [\"apple\", \"banana\", \"cherry\", \"kiwi\", \"mango\"]\n",
    "\n",
    "newlist = [x for x in fruits if \"n\" in x]\n",
    "\n",
    "print(newlist)"
   ]
  },
  {
   "cell_type": "code",
   "execution_count": null,
   "id": "7b4056c1",
   "metadata": {},
   "outputs": [],
   "source": [
    "t=[\" comprehension \",\"list \"]\n",
    "n=[y for y in t if \"l\" in y]\n",
    "print(n)"
   ]
  },
  {
   "cell_type": "code",
   "execution_count": null,
   "id": "e9446024",
   "metadata": {},
   "outputs": [],
   "source": []
  },
  {
   "cell_type": "code",
   "execution_count": null,
   "id": "24dbc1e9",
   "metadata": {},
   "outputs": [],
   "source": [
    "thislist = [\"orange\", \"mango\", \"kiwi\", \"pineapple\", \"banana\"]\n",
    "thislist.sort()\n",
    "print(thislist)\n"
   ]
  },
  {
   "cell_type": "code",
   "execution_count": null,
   "id": "5c78d808",
   "metadata": {},
   "outputs": [],
   "source": [
    "# Sort Descending\n",
    "To sort descending, use the keyword argument reverse = True:"
   ]
  },
  {
   "cell_type": "code",
   "execution_count": null,
   "id": "8908e1e3",
   "metadata": {},
   "outputs": [],
   "source": [
    "thislist = [\"orange\", \"mango\", \"kiwi\", \"pineapple\", \"banana\"]\n",
    "thislist.sort(reverse = True)\n",
    "print(thislist)"
   ]
  },
  {
   "cell_type": "code",
   "execution_count": null,
   "id": "7a37c4d3",
   "metadata": {},
   "outputs": [],
   "source": [
    "# Sort the list descending:\n",
    "\n",
    "thislist = [100, 50, 65, 82, 23]\n",
    "thislist.sort(reverse = True)\n",
    "print(thislist)"
   ]
  },
  {
   "cell_type": "code",
   "execution_count": null,
   "id": "5cdd2e5d",
   "metadata": {},
   "outputs": [],
   "source": [
    "x=[1,2,38,9]\n",
    "x.sort(reverse = True)\n",
    "print(x)"
   ]
  },
  {
   "cell_type": "code",
   "execution_count": null,
   "id": "6326e065",
   "metadata": {},
   "outputs": [],
   "source": [
    "# Python - Join Lists\n",
    "## Join Two Lists\n",
    "There are several ways to join, or concatenate, two or more lists in Python.\n",
    "\n",
    "One of the easiest ways are by using the + operator."
   ]
  },
  {
   "cell_type": "code",
   "execution_count": null,
   "id": "a2f6c049",
   "metadata": {},
   "outputs": [],
   "source": [
    "list1 = [\"a\", \"b\", \"c\"]\n",
    "list2 = [1, 2, 3]\n",
    "\n",
    "list3 = list1 + list2\n",
    "print(list3)"
   ]
  },
  {
   "cell_type": "code",
   "execution_count": null,
   "id": "c90d7691",
   "metadata": {},
   "outputs": [],
   "source": []
  },
  {
   "cell_type": "code",
   "execution_count": null,
   "id": "8a478221",
   "metadata": {},
   "outputs": [],
   "source": []
  },
  {
   "cell_type": "code",
   "execution_count": null,
   "id": "f193533b",
   "metadata": {},
   "outputs": [],
   "source": []
  }
 ],
 "metadata": {
  "kernelspec": {
   "display_name": "Python 3 (ipykernel)",
   "language": "python",
   "name": "python3"
  },
  "language_info": {
   "codemirror_mode": {
    "name": "ipython",
    "version": 3
   },
   "file_extension": ".py",
   "mimetype": "text/x-python",
   "name": "python",
   "nbconvert_exporter": "python",
   "pygments_lexer": "ipython3",
   "version": "3.9.13"
  }
 },
 "nbformat": 4,
 "nbformat_minor": 5
}
