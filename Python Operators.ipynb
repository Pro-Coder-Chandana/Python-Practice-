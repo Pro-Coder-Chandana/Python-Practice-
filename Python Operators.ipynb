{
 "cells": [
  {
   "cell_type": "code",
   "execution_count": 5,
   "id": "cd295050",
   "metadata": {},
   "outputs": [
    {
     "name": "stdout",
     "output_type": "stream",
     "text": [
      "The two numbers with the highest multiplication are: (50, 60)\n"
     ]
    }
   ],
   "source": [
    "numbers = [10, 20, 30, 40, 50, 60]\n",
    "\n",
    "# List comprehension to generate all pairs of numbers\n",
    "pairs = [(x, y) for i, x in enumerate(numbers) for y in numbers[i+1:]]\n",
    "\n",
    "# Find the pair with the highest multiplication\n",
    "max_pair = max(pairs, key=lambda pair: pair[0] * pair[1])\n",
    "\n",
    "# Print the result\n",
    "print(\"The two numbers with the highest multiplication are:\", max_pair)\n"
   ]
  },
  {
   "cell_type": "markdown",
   "id": "65704243",
   "metadata": {},
   "source": [
    "# Python Operators\n",
    "\n",
    "Operators are used to perform operations on variables and values.\n",
    "\n",
    "\n",
    "OPERATORS: Are the special symbols. Eg- + , * , /, etc.\n",
    "\n",
    "\n",
    "OPERAND: It is the value on which the operator is applied."
   ]
  },
  {
   "cell_type": "code",
   "execution_count": 1,
   "id": "7864a069",
   "metadata": {},
   "outputs": [
    {
     "name": "stdout",
     "output_type": "stream",
     "text": [
      "15\n"
     ]
    }
   ],
   "source": [
    "#  In the example below, we use the + operator to add together two values\n",
    "print(10 + 5)"
   ]
  },
  {
   "cell_type": "markdown",
   "id": "eb0cf87c",
   "metadata": {},
   "source": [
    "Python divides the operators in the following groups:\n",
    "\n",
    ". Arithmetic operators\n",
    "\n",
    ". Assignment operators\n",
    "\n",
    ". Comparison operators\n",
    "\n",
    ". Logical operators\n",
    "\n",
    ". Identity operators\n",
    "\n",
    ". Membership operators\n",
    "\n",
    ".Bitwise Operators "
   ]
  },
  {
   "cell_type": "markdown",
   "id": "be1fd813",
   "metadata": {},
   "source": [
    "# Python Arithmetic Operators\n",
    "\n",
    "  \n",
    "  \n",
    "  Arithmetic operators are used with numeric values to perform common mathematical operations"
   ]
  },
  {
   "cell_type": "code",
   "execution_count": 2,
   "id": "ce889fbd",
   "metadata": {},
   "outputs": [
    {
     "name": "stdout",
     "output_type": "stream",
     "text": [
      "7\n"
     ]
    }
   ],
   "source": [
    "# Addition\n",
    "\n",
    "x = 2\n",
    "y = 5\n",
    "print(x+y)\n"
   ]
  },
  {
   "cell_type": "code",
   "execution_count": 3,
   "id": "7550454a",
   "metadata": {},
   "outputs": [
    {
     "name": "stdout",
     "output_type": "stream",
     "text": [
      "3\n"
     ]
    }
   ],
   "source": [
    "#Subtraction\n",
    "x = 5\n",
    "y = 2\n",
    "print(x-y)"
   ]
  },
  {
   "cell_type": "code",
   "execution_count": 4,
   "id": "d0b5a66e",
   "metadata": {},
   "outputs": [
    {
     "name": "stdout",
     "output_type": "stream",
     "text": [
      "15\n"
     ]
    }
   ],
   "source": [
    "# Multiplication\n",
    "x = 5\n",
    "y = 3\n",
    "print(x*y)"
   ]
  },
  {
   "cell_type": "code",
   "execution_count": 5,
   "id": "cf4aece3",
   "metadata": {},
   "outputs": [
    {
     "name": "stdout",
     "output_type": "stream",
     "text": [
      "4.0\n"
     ]
    }
   ],
   "source": [
    "# Division  # quotient\n",
    "x = 12\n",
    "y = 3\n",
    "\n",
    "print(x / y)\n"
   ]
  },
  {
   "cell_type": "code",
   "execution_count": 6,
   "id": "27d9f02a",
   "metadata": {},
   "outputs": [
    {
     "name": "stdout",
     "output_type": "stream",
     "text": [
      "1\n"
     ]
    }
   ],
   "source": [
    "# Modulus\n",
    "x = 5  # In Python, the modulus symbol is represented as the percentage (%)\n",
    "       # symbol. Hence, it is called the remainder operator.\n",
    "y = 2\n",
    "\n",
    "print(x % y)\n"
   ]
  },
  {
   "cell_type": "code",
   "execution_count": 1,
   "id": "1d55efe7",
   "metadata": {},
   "outputs": [
    {
     "name": "stdout",
     "output_type": "stream",
     "text": [
      "0\n"
     ]
    }
   ],
   "source": [
    "x=6\n",
    "y=1\n",
    "print(x%y)"
   ]
  },
  {
   "cell_type": "code",
   "execution_count": 2,
   "id": "6af94a23",
   "metadata": {},
   "outputs": [
    {
     "name": "stdout",
     "output_type": "stream",
     "text": [
      "32\n"
     ]
    }
   ],
   "source": [
    "# Exponentiation  # Exponent operator ** in Python works in the same way as \n",
    "                 # the pow(a, b) function.\n",
    "x = 2\n",
    "y = 5\n",
    "\n",
    "print(x ** y) #same as 2*2*2*2*2  # 3*3*3*3*3"
   ]
  },
  {
   "cell_type": "code",
   "execution_count": 9,
   "id": "36aa70a9",
   "metadata": {},
   "outputs": [
    {
     "name": "stdout",
     "output_type": "stream",
     "text": [
      "7\n"
     ]
    }
   ],
   "source": [
    "# Floor division\n",
    "x = 15  # the floor division // rounds the result down to the nearest \n",
    "         # whole number\n",
    "\n",
    "y = 2\n",
    "\n",
    "print(x // y)\n"
   ]
  },
  {
   "cell_type": "markdown",
   "id": "cf648765",
   "metadata": {},
   "source": [
    "# Python Assignment Operators\n",
    " \n",
    " \n",
    " Assignment operators are used to assign values to variable"
   ]
  },
  {
   "cell_type": "code",
   "execution_count": 10,
   "id": "32541183",
   "metadata": {},
   "outputs": [
    {
     "name": "stdout",
     "output_type": "stream",
     "text": [
      "5\n"
     ]
    }
   ],
   "source": [
    "# Assign value of right side of expression to left side operand \n",
    "x = 5      # =\n",
    "\n",
    "print(x)\n"
   ]
  },
  {
   "cell_type": "code",
   "execution_count": 11,
   "id": "720e8e62",
   "metadata": {},
   "outputs": [
    {
     "name": "stdout",
     "output_type": "stream",
     "text": [
      "8\n"
     ]
    }
   ],
   "source": [
    "# Multiply right operand with left operand and then assign to left operand\n",
    "x = 5\n",
    "\n",
    "x += 3 # x = x + 3\n",
    "\n",
    "print(x)\n"
   ]
  },
  {
   "cell_type": "code",
   "execution_count": 22,
   "id": "d6da3f70",
   "metadata": {},
   "outputs": [
    {
     "name": "stdout",
     "output_type": "stream",
     "text": [
      "2\n"
     ]
    }
   ],
   "source": [
    "# Multiply right operand with left operand and then assign to left operand\n",
    "x = 5\n",
    "\n",
    "x -= 3  # x = x - 3\n",
    "\n",
    "print(x)\n"
   ]
  },
  {
   "cell_type": "code",
   "execution_count": 13,
   "id": "dafccbf1",
   "metadata": {},
   "outputs": [
    {
     "name": "stdout",
     "output_type": "stream",
     "text": [
      "15\n"
     ]
    }
   ],
   "source": [
    "# Multiply right operand with left operand and then assign to left operand\n",
    "x = 5\n",
    "\n",
    "x *= 3 # x = x * 3\n",
    "\n",
    "print(x)\n"
   ]
  },
  {
   "cell_type": "code",
   "execution_count": 21,
   "id": "e28a4b46",
   "metadata": {},
   "outputs": [
    {
     "name": "stdout",
     "output_type": "stream",
     "text": [
      "1.6666666666666667\n"
     ]
    }
   ],
   "source": [
    "# Divide left operand with right operand and then assign to left operand\n",
    "x = 5\n",
    "\n",
    "x /= 3\n",
    "\n",
    "print(x)\n"
   ]
  },
  {
   "cell_type": "code",
   "execution_count": 20,
   "id": "9c4c148b",
   "metadata": {},
   "outputs": [
    {
     "name": "stdout",
     "output_type": "stream",
     "text": [
      "2\n"
     ]
    }
   ],
   "source": [
    "# Takes modulus using left and right operands and assign the result to left operand\n",
    "x = 5\n",
    "\n",
    "x % = 3 \n",
    "\n",
    "print(x)\n"
   ]
  },
  {
   "cell_type": "code",
   "execution_count": 16,
   "id": "c99ba3ca",
   "metadata": {},
   "outputs": [
    {
     "name": "stdout",
     "output_type": "stream",
     "text": [
      "1\n"
     ]
    }
   ],
   "source": [
    "# Divide left operand with right operand and then assign the value(floor) to left operand\n",
    "x = 5\n",
    "\n",
    "x//=3\n",
    "\n",
    "print(x)\n"
   ]
  },
  {
   "cell_type": "code",
   "execution_count": 19,
   "id": "457e10a7",
   "metadata": {},
   "outputs": [
    {
     "name": "stdout",
     "output_type": "stream",
     "text": [
      "125\n"
     ]
    }
   ],
   "source": [
    "# Calculate exponent(raise power) value using operands and assign value to left operand\n",
    "x = 5 \n",
    "\n",
    "x **= 3 \n",
    "\n",
    "print(x)"
   ]
  },
  {
   "cell_type": "code",
   "execution_count": 6,
   "id": "9043c132",
   "metadata": {},
   "outputs": [
    {
     "name": "stdout",
     "output_type": "stream",
     "text": [
      "1\n"
     ]
    }
   ],
   "source": [
    "# Performs Bitwise AND on operands and assign value to left operand\n",
    "x = 5\n",
    "\n",
    "x &= 3  \n",
    "\n",
    "print(x)\n"
   ]
  },
  {
   "cell_type": "markdown",
   "id": "3c9603bd",
   "metadata": {},
   "source": [
    "# Python Comparison Operators\n",
    "\n",
    "\n",
    "Comparison operators are used to compare two values"
   ]
  },
  {
   "cell_type": "code",
   "execution_count": 4,
   "id": "0a6c6aa5",
   "metadata": {},
   "outputs": [
    {
     "name": "stdout",
     "output_type": "stream",
     "text": [
      "False\n"
     ]
    }
   ],
   "source": [
    "# Equal,returns False because 8 is not equal to 3\n",
    "\n",
    "x = 8\n",
    "y = 9\n",
    "\n",
    "print(x == y) #8 == 9"
   ]
  },
  {
   "cell_type": "code",
   "execution_count": 8,
   "id": "a419ecc3",
   "metadata": {},
   "outputs": [
    {
     "name": "stdout",
     "output_type": "stream",
     "text": [
      "True\n"
     ]
    }
   ],
   "source": [
    "# Not equal,returns True because 6 is not equal to 3\n",
    "x = 6\n",
    "y = 3\n",
    "\n",
    "print(x != y)"
   ]
  },
  {
   "cell_type": "code",
   "execution_count": 25,
   "id": "16889b09",
   "metadata": {},
   "outputs": [
    {
     "name": "stdout",
     "output_type": "stream",
     "text": [
      "True\n"
     ]
    }
   ],
   "source": [
    "# Greater than,returns True because 5 is greater than 3\n",
    "\n",
    "x = 5\n",
    "y = 3\n",
    "\n",
    "print(x > y)"
   ]
  },
  {
   "cell_type": "code",
   "execution_count": 26,
   "id": "a9feeaa3",
   "metadata": {},
   "outputs": [
    {
     "name": "stdout",
     "output_type": "stream",
     "text": [
      "False\n"
     ]
    }
   ],
   "source": [
    "# Less than,returns False because 5 is not less than 3\n",
    "x = 5\n",
    "y = 3\n",
    "\n",
    "print(x < y)\n"
   ]
  },
  {
   "cell_type": "code",
   "execution_count": 27,
   "id": "ce503141",
   "metadata": {},
   "outputs": [
    {
     "name": "stdout",
     "output_type": "stream",
     "text": [
      "True\n"
     ]
    }
   ],
   "source": [
    "# Greater than or equal to,returns True because five is greater, or equal, to 3\n",
    "x = 5\n",
    "y = 3\n",
    "\n",
    "print(x >= y)"
   ]
  },
  {
   "cell_type": "code",
   "execution_count": 28,
   "id": "ea757a4c",
   "metadata": {},
   "outputs": [
    {
     "name": "stdout",
     "output_type": "stream",
     "text": [
      "False\n"
     ]
    }
   ],
   "source": [
    "# Less than or equal to, returns False because 5 is neither less than or equal to 3\n",
    "x = 5\n",
    "y = 3\n",
    "\n",
    "print(x <= y)"
   ]
  },
  {
   "cell_type": "markdown",
   "id": "1fecfb12",
   "metadata": {},
   "source": [
    "# Python Logical Operators\n",
    " \n",
    " \n",
    " Logical operators are used to combine conditional statements"
   ]
  },
  {
   "cell_type": "code",
   "execution_count": 30,
   "id": "70d443fe",
   "metadata": {},
   "outputs": [
    {
     "name": "stdout",
     "output_type": "stream",
     "text": [
      "True\n"
     ]
    }
   ],
   "source": [
    "# and : Returns True if both statements are true\n",
    "x = 5\n",
    "\n",
    "print(x > 3 and x < 10)\n",
    "# returns True because 5 is greater than 3 AND 5 is less than 10\n"
   ]
  },
  {
   "cell_type": "code",
   "execution_count": 32,
   "id": "9e797ead",
   "metadata": {},
   "outputs": [
    {
     "name": "stdout",
     "output_type": "stream",
     "text": [
      "True\n"
     ]
    }
   ],
   "source": [
    "# or : Returns True if one of the statements is true\n",
    "x = 5\n",
    "\n",
    "print(x > 3 or x < 4)\n",
    "# 5 is greater than 3, but 5 is not less than 4\n"
   ]
  },
  {
   "cell_type": "code",
   "execution_count": 34,
   "id": "6854eb8a",
   "metadata": {},
   "outputs": [
    {
     "name": "stdout",
     "output_type": "stream",
     "text": [
      "False\n"
     ]
    }
   ],
   "source": [
    "# not : Reverse the result, returns False if the result is true\n",
    "x = 5\n",
    "\n",
    "print(not(x > 3 and x < 10))\n",
    "\n",
    "# returns False because not is used to reverse the result\n"
   ]
  },
  {
   "cell_type": "markdown",
   "id": "e8dada45",
   "metadata": {},
   "source": [
    "# Python Identity Operators\n",
    "  \n",
    "  \n",
    "  Identity operators are used to compare the objects, not if they are equal, but if they are actually the same object, with the same memory location"
   ]
  },
  {
   "cell_type": "code",
   "execution_count": 36,
   "id": "fc1c7a78",
   "metadata": {},
   "outputs": [
    {
     "name": "stdout",
     "output_type": "stream",
     "text": [
      "True\n",
      "False\n",
      "True\n"
     ]
    }
   ],
   "source": [
    "# is : Returns True if both variables are the same object\n",
    "\n",
    "x = [\"apple\", \"banana\"]\n",
    "y = [\"apple\", \"banana\"]\n",
    "z = x\n",
    "\n",
    "print(x is z)\n",
    "\n",
    "# returns True because z is the same object as x\n",
    "\n",
    "print(x is y)\n",
    "\n",
    "# returns False because x is not the same object as y, even if they have the same content\n",
    "\n",
    "print(x == y)\n",
    "# to demonstrate the difference betweeen \"is\" and \"==\": this comparison returns True because x is equal to y\n"
   ]
  },
  {
   "cell_type": "code",
   "execution_count": 37,
   "id": "8adb0f5a",
   "metadata": {},
   "outputs": [
    {
     "name": "stdout",
     "output_type": "stream",
     "text": [
      "False\n",
      "True\n",
      "False\n"
     ]
    }
   ],
   "source": [
    "# is not : Returns True if both variables are not the same object\n",
    "x = [\"apple\", \"banana\"]\n",
    "y = [\"apple\", \"banana\"]\n",
    "z = x\n",
    "\n",
    "print(x is not z)\n",
    "\n",
    "# returns False because z is the same object as x\n",
    "\n",
    "print(x is not y)\n",
    "\n",
    "# returns True because x is not the same object as y, even if they have the same content\n",
    "\n",
    "print(x != y)\n",
    "\n",
    "# to demonstrate the difference betweeen \"is not\" and \"!=\": this comparison returns False because x is equal to y\n"
   ]
  },
  {
   "cell_type": "markdown",
   "id": "21811c0a",
   "metadata": {},
   "source": [
    "# Python Membership Operators\n",
    "\n",
    "Membership operators are used to test if a sequence is presented in an object"
   ]
  },
  {
   "cell_type": "code",
   "execution_count": 39,
   "id": "8c9ee597",
   "metadata": {},
   "outputs": [
    {
     "name": "stdout",
     "output_type": "stream",
     "text": [
      "True\n"
     ]
    }
   ],
   "source": [
    "# in : Returns True if a sequence with the specified value is present in the object\n",
    "x = [\"apple\", \"banana\"]\n",
    "\n",
    "print(\"banana\" in x)\n",
    "\n",
    "# returns True because a sequence with the value \"banana\" is in the list\n",
    "\n"
   ]
  },
  {
   "cell_type": "code",
   "execution_count": 3,
   "id": "adda9531",
   "metadata": {},
   "outputs": [
    {
     "name": "stdout",
     "output_type": "stream",
     "text": [
      "False\n"
     ]
    }
   ],
   "source": [
    "x=[1,2,3,4,5]\n",
    "print(6 in x)"
   ]
  },
  {
   "cell_type": "code",
   "execution_count": 40,
   "id": "bd243cee",
   "metadata": {},
   "outputs": [
    {
     "name": "stdout",
     "output_type": "stream",
     "text": [
      "True\n"
     ]
    }
   ],
   "source": [
    "# not in : Returns True if a sequence with the specified value is not present in the object\n",
    "x = [\"apple\", \"banana\"]\n",
    "\n",
    "print(\"pineapple\" not in x)\n",
    "\n",
    "# returns True because a sequence with the value \"pineapple\" is not in the list"
   ]
  },
  {
   "cell_type": "code",
   "execution_count": 4,
   "id": "238f2460",
   "metadata": {},
   "outputs": [
    {
     "name": "stdout",
     "output_type": "stream",
     "text": [
      "False\n"
     ]
    }
   ],
   "source": [
    "x = [\"apple\", \"banana\"]\n",
    "print(\"apple\" not in x)"
   ]
  },
  {
   "cell_type": "markdown",
   "id": "d5767148",
   "metadata": {},
   "source": [
    "# Bitwise Operators in Python"
   ]
  },
  {
   "cell_type": "code",
   "execution_count": 9,
   "id": "c5a38a90",
   "metadata": {},
   "outputs": [
    {
     "name": "stdout",
     "output_type": "stream",
     "text": [
      "0\n",
      "14\n",
      "-11\n",
      "14\n",
      "2\n",
      "40\n"
     ]
    }
   ],
   "source": [
    "# Examples of Bitwise operators\n",
    "a = 10\n",
    "b = 4\n",
    "  \n",
    "# Print bitwise AND operation\n",
    "print(a & b)\n",
    "  \n",
    "# Print bitwise OR operation\n",
    "print(a | b)\n",
    "  \n",
    "# Print bitwise NOT operation\n",
    "print(~a)\n",
    "  \n",
    "# print bitwise XOR operation\n",
    "print(a ^ b)\n",
    "  \n",
    "# print bitwise right shift operation\n",
    "print(a >> 2)\n",
    "  \n",
    "# print bitwise left shift operation\n",
    "print(a << 2)"
   ]
  },
  {
   "cell_type": "code",
   "execution_count": null,
   "id": "6e4687d4",
   "metadata": {},
   "outputs": [],
   "source": []
  }
 ],
 "metadata": {
  "kernelspec": {
   "display_name": "Python 3 (ipykernel)",
   "language": "python",
   "name": "python3"
  },
  "language_info": {
   "codemirror_mode": {
    "name": "ipython",
    "version": 3
   },
   "file_extension": ".py",
   "mimetype": "text/x-python",
   "name": "python",
   "nbconvert_exporter": "python",
   "pygments_lexer": "ipython3",
   "version": "3.9.13"
  }
 },
 "nbformat": 4,
 "nbformat_minor": 5
}
